{
 "cells": [
  {
   "cell_type": "code",
   "execution_count": 64,
   "metadata": {},
   "outputs": [],
   "source": [
    "import pandas as pd\n",
    "import geopandas as gpd\n",
    "import numpy as np\n"
   ]
  },
  {
   "cell_type": "code",
   "execution_count": 9,
   "metadata": {},
   "outputs": [],
   "source": [
    "hex_proof = gpd.read_file('./synced-data/rwa_travel_time_hex-8.geojson')\n",
    "hex = hex_proof.copy()"
   ]
  },
  {
   "cell_type": "code",
   "execution_count": 17,
   "metadata": {},
   "outputs": [],
   "source": [
    "school_bins = [30, 45, 60]\n",
    "health_bins = [45, 90, 135]\n",
    "hospital_bins = [60, 120, 180]\n",
    "market_bins = [60, 120, 180]"
   ]
  },
  {
   "cell_type": "code",
   "execution_count": 53,
   "metadata": {},
   "outputs": [],
   "source": [
    "scoring_rubric =[[0, 0, 0, 0], [2, 0, 0, 0], [4, 2, 0, 0], [8, 4, 2, 0]]\n",
    "\n",
    "def calculate_impact_score(before_travel_time, after_travel_time, bins):\n",
    "    # Calculate the bin indices for before and after travel times\n",
    "    before_bin = np.digitize(before_travel_time, bins)\n",
    "    after_bin = np.digitize(after_travel_time, bins)\n",
    "    \n",
    "    # Initialize an array to store impact scores\n",
    "    impact_scores = np.zeros(len(before_travel_time))\n",
    "    \n",
    "    # Loop through each row and calculate the impact score\n",
    "    for i in range(len(before_travel_time)):\n",
    "        impact_scores[i] = scoring_rubric[before_bin[i]][after_bin[i]]\n",
    "    \n",
    "    return impact_scores"
   ]
  },
  {
   "cell_type": "code",
   "execution_count": null,
   "metadata": {},
   "outputs": [],
   "source": [
    "hex['all_education_potential_impact'] = calculate_impact_score(hex['travel_time_no_sites_all_education_facilities_fixed'], hex['travel_time_all_education_facilities_fixed'], school_bins)\n",
    "hex['all_education_current_impact'] = calculate_impact_score(hex['travel_time_no_sites_all_education_facilities_fixed'], hex['travel_time_constructed_sites_all_education_facilities_fixed'], school_bins)\n",
    "hex['all_health_potential_impact'] = calculate_impact_score(hex['travel_time_no_sites_all_health_facilities_optimal'], hex['travel_time_all_health_facilities_optimal'], health_bins)\n",
    "hex['all_health_current_impact'] = calculate_impact_score(hex['travel_time_no_sites_all_health_facilities_optimal'], hex['travel_time_constructed_sites_all_health_facilities_optimal'], health_bins)\n",
    "hex['health_centers_potential_impact'] = calculate_impact_score(hex['travel_time_no_sites_health_centers_optimal'], hex['travel_time_health_centers_optimal'], health_bins)\n",
    "hex['health_centers_current_impact'] = calculate_impact_score(hex['travel_time_no_sites_health_centers_optimal'], hex['travel_time_constructed_sites_health_centers_optimal'], health_bins)\n",
    "hex['health_posts_potential_impact'] = calculate_impact_score(hex['travel_time_no_sites_health_posts_optimal'], hex['travel_time_health_posts_optimal'], health_bins)\n",
    "hex['health_posts_current_impact'] = calculate_impact_score(hex['travel_time_no_sites_health_posts_optimal'], hex['travel_time_constructed_sites_health_posts_optimal'], health_bins)\n",
    "hex['major_hospitals_potential_impact'] = calculate_impact_score(hex['travel_time_no_sites_major_hospitals_optimal'], hex['travel_time_major_hospitals_optimal'], hospital_bins)\n",
    "hex['major_hospitals_current_impact'] = calculate_impact_score(hex['travel_time_no_sites_major_hospitals_optimal'], hex['travel_time_constructed_sites_major_hospitals_optimal'], hospital_bins)\n",
    "hex['primary_schools_potential_impact'] = calculate_impact_score(hex['travel_time_no_sites_primary_schools_fixed'], hex['travel_time_primary_schools_fixed'], school_bins)\n",
    "hex['primary_schools_current_impact'] = calculate_impact_score(hex['travel_time_no_sites_primary_schools_fixed'], hex['travel_time_constructed_sites_primary_schools_fixed'], school_bins)\n",
    "hex['secondary_schools_potential_impact'] = calculate_impact_score(hex['travel_time_no_sites_secondary_schools_fixed'], hex['travel_time_secondary_schools_fixed'], school_bins)\n",
    "hex['secondary_schools_current_impact'] = calculate_impact_score(hex['travel_time_no_sites_secondary_schools_fixed'], hex['travel_time_constructed_sites_secondary_schools_fixed'], school_bins)\n",
    "hex['semi_dense_urban_potential_impact'] = calculate_impact_score(hex['travel_time_no_sites_semi_dense_urban_optimal'], hex['travel_time_semi_dense_urban_optimal'], market_bins)\n",
    "hex['semi_dense_urban_current_impact'] = calculate_impact_score(hex['travel_time_no_sites_semi_dense_urban_optimal'], hex['travel_time_constructed_sites_semi_dense_urban_optimal'], market_bins)"
   ]
  },
  {
   "cell_type": "code",
   "execution_count": 57,
   "metadata": {},
   "outputs": [],
   "source": [
    "hex['total_potential_impact'] = hex['health_centers_potential_impact'] + hex['health_posts_potential_impact'] + hex['major_hospitals_potential_impact'] + hex['primary_schools_potential_impact'] + hex['secondary_schools_potential_impact'] + hex['semi_dense_urban_potential_impact']\n",
    "hex['total_current_impact'] = hex['health_centers_current_impact'] + hex['health_posts_current_impact'] + hex['major_hospitals_current_impact'] + hex['primary_schools_current_impact'] + hex['secondary_schools_current_impact'] + hex['semi_dense_urban_current_impact']\n",
    "hex['total_school_current_impact'] =  hex['primary_schools_current_impact'] + hex['secondary_schools_current_impact']\n",
    "hex['total_school_potential_impact'] =  hex['primary_schools_potential_impact'] + hex['secondary_schools_potential_impact']\n",
    "hex['total_health_current_impact'] = hex['health_centers_current_impact'] + hex['health_posts_current_impact'] + hex['major_hospitals_current_impact']\n",
    "hex['total_health_potential_impact'] = hex['health_centers_potential_impact'] + hex['health_posts_potential_impact'] + hex['major_hospitals_potential_impact']"
   ]
  },
  {
   "cell_type": "code",
   "execution_count": 63,
   "metadata": {},
   "outputs": [],
   "source": [
    "hex.to_file('./synced-data/rwa_travel_time_hex-8.geojson', driver='GeoJSON')"
   ]
  }
 ],
 "metadata": {
  "kernelspec": {
   "display_name": "geo",
   "language": "python",
   "name": "python3"
  },
  "language_info": {
   "codemirror_mode": {
    "name": "ipython",
    "version": 3
   },
   "file_extension": ".py",
   "mimetype": "text/x-python",
   "name": "python",
   "nbconvert_exporter": "python",
   "pygments_lexer": "ipython3",
   "version": "3.10.10"
  },
  "orig_nbformat": 4
 },
 "nbformat": 4,
 "nbformat_minor": 2
}
